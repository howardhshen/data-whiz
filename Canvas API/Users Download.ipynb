{
 "cells": [
  {
   "cell_type": "markdown",
   "metadata": {},
   "source": [
    "Adapted from the CSV Reports Download notebook\n",
    "\n",
    "This notebook takes downloads a list of all the users in an account.\n",
    "\n",
    "https://canvas.instructure.com/doc/api/users.html"
   ]
  },
  {
   "cell_type": "code",
   "execution_count": null,
   "metadata": {},
   "outputs": [],
   "source": [
    "#!/usr/bin/env python\n",
    "# working as of 6/8/2018\n",
    "import requests\n",
    "import time, json, os, shutil\n",
    "import re,pprint\n",
    "import smtplib\n",
    "import pandas as pd\n",
    "\n",
    "### NOTES: ###\n",
    "# 1. You can use an external credentials file to (slightly) increase security.\n",
    "#   a. This works for both token and email credential information.\n",
    "# 2. All <> angle brackets are designed to be replaced with your data. DO NOT INCLUDE THEM.\n",
    "\n",
    "# Change this to match your access token\n",
    "# Token in LastPass\n",
    "from config import token\n",
    "\n",
    "# This headers dictionary is used for almost every request\n",
    "headers = {\"Authorization\":\"Bearer %s\" % token}\n",
    "\n",
    "# Change this to match the domain you use to access Canvas\n",
    "CANVAS_DOMAIN  = \"sltr.instructure.com\"\n",
    "\n",
    "# Change this to the full path of your desired output folder - always use / whether linux or Windows\n",
    "# Always include trailing / and uncomment options to create directories\n",
    "OUTPUT_FOLDER = \"./data/users/\"\n",
    "\n",
    "#if not os.path.exists(OUTPUT_FOLDER):\n",
    "#   os.makedirs(OUTPUT_FOLDER)\n",
    "\n",
    "ACCOUNT_ID = \"1\"\n",
    "file_list = []"
   ]
  },
  {
   "cell_type": "markdown",
   "metadata": {},
   "source": [
    "# Download User data"
   ]
  },
  {
   "cell_type": "code",
   "execution_count": null,
   "metadata": {},
   "outputs": [],
   "source": [
    "# REMOVE OLD FILE(S) FIRST\n",
    "folder = OUTPUT_FOLDER\n",
    "\n",
    "try:\n",
    "    for the_file in os.listdir(folder):\n",
    "        file_path = os.path.join(folder, the_file)\n",
    "        try:\n",
    "            if os.path.isfile(file_path):\n",
    "                os.unlink(file_path)\n",
    "            elif os.path.isdir(file_path): shutil.rmtree(file_path)\n",
    "        except Exception as e:\n",
    "            print(e)\n",
    "except FileNotFoundError:\n",
    "    os.mkdir(folder)\n",
    "\n",
    "\n",
    "###################################################################################\n",
    "############# BE EXTREMELY CAREFUL CHANGING ANY INFORMATION BELOW #################\n",
    "\n",
    "BASE_DOMAIN = \"https://%s/api/v1/%%s/\" % CANVAS_DOMAIN\n",
    "USERS_URI = BASE_DOMAIN % \"accounts/%s/users\" % ACCOUNT_ID\n",
    "\n",
    "users_response = requests.get(USERS_URI, headers=headers)\n",
    "users_list = users_response.json()\n",
    "\n",
    "while \"next\" in users_response.links:\n",
    "    next_page_uri = users_response.links[\"next\"][\"url\"]\n",
    "    users_response = requests.get(next_page_uri, headers=headers)\n",
    "    users_list.extend(users_response.json())\n",
    "\n",
    "users_df = pd.DataFrame(users_list, dtype=str)\n"
   ]
  },
  {
   "cell_type": "code",
   "execution_count": null,
   "metadata": {},
   "outputs": [],
   "source": [
    "sample_quiz_url = 'https://sltr.instructure.com/api/v1/accounts/1/users'\n",
    "response = requests.get(sample_quiz_url,headers=headers)\n",
    "print(response.json())"
   ]
  }
 ],
 "metadata": {
  "kernelspec": {
   "display_name": "Python 3",
   "language": "python",
   "name": "python3"
  },
  "language_info": {
   "codemirror_mode": {
    "name": "ipython",
    "version": 3
   },
   "file_extension": ".py",
   "mimetype": "text/x-python",
   "name": "python",
   "nbconvert_exporter": "python",
   "pygments_lexer": "ipython3",
   "version": "3.7.6"
  }
 },
 "nbformat": 4,
 "nbformat_minor": 4
}
